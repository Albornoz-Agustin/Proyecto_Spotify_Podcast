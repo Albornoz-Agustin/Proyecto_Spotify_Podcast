{
 "cells": [
  {
   "cell_type": "code",
   "execution_count": 1,
   "id": "c56245b9-c653-4b70-81b0-250e4de06622",
   "metadata": {},
   "outputs": [
    {
     "name": "stdout",
     "output_type": "stream",
     "text": [
      "✅ Archivos combinados: 83315 filas, 12 columnas\n",
      "📄 Archivo final guardado como 'podcasts_concatenados_2020_2024.csv'\n"
     ]
    }
   ],
   "source": [
    "# Concatenar las tablas\n",
    "\n",
    "import pandas as pd\n",
    "\n",
    "# --- Ruta de los archivos ---\n",
    "archivo_arg_esp = 'spotify_podcasts_2020_2024_Arg-Esp.csv'\n",
    "archivo_br_pt = 'spotify_podcasts_2020_2024_Br-Pt.csv'\n",
    "archivo_us_eng = 'spotify_podcasts_2020_2024_US-Eng.csv'\n",
    "\n",
    "# --- Cargar los archivos ---\n",
    "df_arg_esp = pd.read_csv(archivo_arg_esp)\n",
    "df_br_pt = pd.read_csv(archivo_br_pt)\n",
    "df_us_eng = pd.read_csv(archivo_us_eng)\n",
    "\n",
    "# --- Concatenar ---\n",
    "df_total = pd.concat([df_arg_esp, df_br_pt, df_us_eng], ignore_index=True)\n",
    "\n",
    "# --- Eliminar duplicados (opcional pero recomendado) ---\n",
    "df_total = df_total.drop_duplicates()\n",
    "\n",
    "# --- Verificar dimensiones y guardar ---\n",
    "print(f\"✅ Archivos combinados: {df_total.shape[0]} filas, {df_total.shape[1]} columnas\")\n",
    "\n",
    "# --- Guardar en nuevo archivo ---\n",
    "df_total.to_csv('podcasts_concatenados_2020_2024.csv', index=False)\n",
    "print(\"📄 Archivo final guardado como 'podcasts_concatenados_2020_2024.csv'\")"
   ]
  },
  {
   "cell_type": "code",
   "execution_count": null,
   "id": "8cd3cd36-7f68-45da-a4f0-98c9b7fcbc63",
   "metadata": {},
   "outputs": [],
   "source": []
  }
 ],
 "metadata": {
  "kernelspec": {
   "display_name": "Python 3 (ipykernel)",
   "language": "python",
   "name": "python3"
  },
  "language_info": {
   "codemirror_mode": {
    "name": "ipython",
    "version": 3
   },
   "file_extension": ".py",
   "mimetype": "text/x-python",
   "name": "python",
   "nbconvert_exporter": "python",
   "pygments_lexer": "ipython3",
   "version": "3.10.16"
  }
 },
 "nbformat": 4,
 "nbformat_minor": 5
}
