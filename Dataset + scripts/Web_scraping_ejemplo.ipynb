{
 "cells": [
  {
   "cell_type": "code",
   "execution_count": 1,
   "id": "d4046e96-ee6f-4f76-8944-45be44655b33",
   "metadata": {},
   "outputs": [],
   "source": [
    "# Se instala la versión de \"requests>=2.31.0\", así mantenemos flexibilidad y \n",
    "# seguridad sin arriesgar cambios mayores incompatibles en una futura versión 3.x."
   ]
  },
  {
   "cell_type": "code",
   "execution_count": 2,
   "id": "c824cf39-3843-49d5-8deb-0eb98689309b",
   "metadata": {},
   "outputs": [],
   "source": [
    "!pip install requests>=2.31.0"
   ]
  },
  {
   "cell_type": "code",
   "execution_count": 3,
   "id": "75c5f704-1496-49ef-81f9-e3ea3a92e805",
   "metadata": {},
   "outputs": [],
   "source": [
    "# --- Importar librerias ---\n",
    "\n",
    "import requests\n",
    "import base64\n",
    "import time\n",
    "import pandas as pd"
   ]
  },
  {
   "cell_type": "code",
   "execution_count": 4,
   "id": "bbb3f118-ad83-482e-a2d7-409218c3e6e6",
   "metadata": {},
   "outputs": [],
   "source": [
    "# --- Credenciales Spotify ---\n",
    "\n",
    "CLIENT_ID = 'Id de la App que se crea en la API de Spotify'\n",
    "CLIENT_SECRET = 'Id de la App que se crea en la API de Spotify'\n",
    "\n",
    "# --- Parámetros ---\n",
    "# --- La API tiene un limite de solicitudes por segundos, por lo que en la variable \"paises\" se tienen que incorporar el pais que se quiere buscar ---\n",
    "\n",
    "PAISES = ['BR', 'PT']\n",
    "PALABRAS_CLAVE = ['technology', 'comedy', 'news', 'sports']  # en inglés, para mejorar resultados\n",
    "LIMITE_SHOWS = 20\n"
   ]
  },
  {
   "cell_type": "code",
   "execution_count": 5,
   "id": "57607ec8-5792-4da0-90ee-5e823d43d594",
   "metadata": {},
   "outputs": [],
   "source": [
    "# Idioma esperado según país\n",
    "\n",
    "Idioma_Por_Pais = {\n",
    "    'AR': 'es',   # Argentina - Español\n",
    "    'ES': 'es',   # España - Español\n",
    "    'US': 'en',   # Estados Unidos - Inglés\n",
    "    'GB': 'en',   # Reino Unido (Inglaterra) - Inglés\n",
    "    'BR': 'pt',   # Brasil - Portugués\n",
    "    'PT': 'pt',   # Portugal - Portugués\n",
    "}\n"
   ]
  },
  {
   "cell_type": "code",
   "execution_count": 6,
   "id": "1dc04655-e41d-40d7-9b6f-3e6ca357d028",
   "metadata": {},
   "outputs": [],
   "source": [
    "# --- Obtener token ---\n",
    "\n",
    "def obtener_token(client_id, client_secret):\n",
    "    auth_url = 'https://accounts.spotify.com/api/token'\n",
    "    auth_header = base64.b64encode(f\"{client_id}:{client_secret}\".encode()).decode()\n",
    "    headers = {\n",
    "        'Authorization': f'Basic {auth_header}',\n",
    "        'Content-Type': 'application/x-www-form-urlencoded'\n",
    "    }\n",
    "    data = {'grant_type': 'client_credentials'}\n",
    "    res = requests.post(auth_url, headers=headers, data=data)\n",
    "    if res.status_code != 200:\n",
    "        raise Exception(f\"Error autenticando: {res.status_code} - {res.text}\")\n",
    "    return res.json().get('access_token')\n",
    "    "
   ]
  },
  {
   "cell_type": "code",
   "execution_count": 7,
   "id": "53144100-0c3d-4a32-a842-ba9c5d90aa1e",
   "metadata": {},
   "outputs": [],
   "source": [
    "# --- Buscar shows por palabra clave (nombre del podcast) ---\n",
    "\n",
    "def buscar_shows_por_keyword(keyword, pais, token, limite=LIMITE_SHOWS):\n",
    "    url = f\"https://api.spotify.com/v1/search\"\n",
    "    headers = {\"Authorization\": f\"Bearer {token}\"}\n",
    "    params = {\n",
    "        \"q\": keyword,\n",
    "        \"type\": \"show\",\n",
    "        \"market\": pais,\n",
    "        \"limit\": limite\n",
    "    }\n",
    "    res = requests.get(url, headers=headers, params=params)\n",
    "    if res.status_code != 200:\n",
    "        print(f\"⚠️ Error al buscar shows para '{keyword}' en {pais}: {res.status_code}\")\n",
    "        return []\n",
    "    return res.json().get(\"shows\", {}).get(\"items\", [])\n",
    "    "
   ]
  },
  {
   "cell_type": "code",
   "execution_count": 8,
   "id": "cee2140a-8b5a-4b10-8b18-caf0c73f967f",
   "metadata": {},
   "outputs": [],
   "source": [
    "# --- Obtener episodios ---\n",
    "\n",
    "def obtener_episodios(show_id, token):\n",
    "    episodios = []\n",
    "    url = f\"https://api.spotify.com/v1/shows/{show_id}/episodes?market=US&limit=50\"\n",
    "    headers = {'Authorization': f'Bearer {token}'}\n",
    "    while url:\n",
    "        res = requests.get(url, headers=headers)\n",
    "        if res.status_code == 429:\n",
    "            retry_after = int(res.headers.get('Retry-After', 1))\n",
    "            print(f\"⏳ Rate limit. Esperando {retry_after} segundos...\")\n",
    "            time.sleep(retry_after)\n",
    "            continue\n",
    "        elif res.status_code != 200:\n",
    "            print(f\"⚠️ No se pudieron obtener episodios para show {show_id}: {res.status_code}\")\n",
    "            break\n",
    "        data = res.json()\n",
    "        episodios.extend(data.get('items', []))\n",
    "        url = data.get('next')\n",
    "        time.sleep(0.3)\n",
    "    return episodios\n",
    "    "
   ]
  },
  {
   "cell_type": "code",
   "execution_count": 9,
   "id": "5a7a7b7f-892e-4b27-974c-aa30839b6d7b",
   "metadata": {},
   "outputs": [],
   "source": [
    "# --- Formatear datos ---\n",
    "\n",
    "def filtrar_y_formatear(show, episodios, keyword, pais):\n",
    "    registros = []\n",
    "    idioma_esperado = Idioma_Por_Pais.get(pais, 'es')\n",
    "    idioma_show = show.get('languages', [''])[0]\n",
    "    if idioma_show != idioma_esperado:\n",
    "        return []\n",
    "\n",
    "    # Filtramos los episodios válidos primero\n",
    "    episodios_validos = []\n",
    "    for ep in episodios:\n",
    "        if not ep:\n",
    "            continue\n",
    "        fecha = ep.get('release_date')\n",
    "        if fecha:\n",
    "            try:\n",
    "                año = int(fecha[:4])\n",
    "                if 2020 <= año <= 2024:\n",
    "                    episodios_validos.append(ep)\n",
    "            except:\n",
    "                continue\n",
    "\n",
    "    # Cuántos episodios válidos fueron encontrados\n",
    "    cantidad_descargados = len(episodios_validos)\n",
    "\n",
    "    # Generamos registros con esa cantidad\n",
    "    for ep in episodios_validos:\n",
    "        registros.append({\n",
    "            'pais': pais,\n",
    "            'idioma_show': idioma_show,\n",
    "            'keyword': keyword,\n",
    "            'podcast_id': show['id'],\n",
    "            'nombre_podcast': show['name'],\n",
    "            'editorial': show.get('publisher'),\n",
    "            'total_episodios': show.get('total_episodes'),\n",
    "            'episodios_descargados': cantidad_descargados,\n",
    "            'episodio_id': ep['id'],\n",
    "            'nombre_episodio': ep['name'],\n",
    "            'fecha_lanzamiento': fecha,\n",
    "            'duracion_min': round(ep['duration_ms'] / 60000, 2)\n",
    "        })\n",
    "\n",
    "    return registros\n",
    "    "
   ]
  },
  {
   "cell_type": "code",
   "execution_count": null,
   "id": "707a68b4-177b-41ee-8f2d-1f92c924b8a4",
   "metadata": {},
   "outputs": [
    {
     "name": "stdout",
     "output_type": "stream",
     "text": [
      "🔍 Buscando podcasts relacionados con 'technology' en BR...\n",
      "🔍 Buscando podcasts relacionados con 'comedy' en BR...\n",
      "🔍 Buscando podcasts relacionados con 'news' en BR...\n"
     ]
    }
   ],
   "source": [
    "# --- Main ---\n",
    "\n",
    "def main():\n",
    "    token = obtener_token(CLIENT_ID, CLIENT_SECRET)\n",
    "    datos = []\n",
    "    for pais in PAISES:\n",
    "        for palabra_clave in PALABRAS_CLAVE:\n",
    "            print(f\"🔍 Buscando podcasts relacionados con '{palabra_clave}' en {pais}...\")\n",
    "            shows = buscar_shows_por_keyword(palabra_clave, pais, token)\n",
    "            for show in shows:\n",
    "                episodios = obtener_episodios(show['id'], token)\n",
    "                registros = filtrar_y_formatear(show, episodios, palabra_clave, pais)\n",
    "                datos.extend(registros)\n",
    "\n",
    "    df = pd.DataFrame(datos)\n",
    "    df.to_csv('spotify_podcasts_keywords_2020_2024.csv', index=False)\n",
    "    print(f\"\\n✅ Base de datos guardada con {len(df)} filas\")\n",
    "\n",
    "main()\n"
   ]
  }
 ],
 "metadata": {
  "kernelspec": {
   "display_name": "Python 3 (ipykernel)",
   "language": "python",
   "name": "python3"
  },
  "language_info": {
   "codemirror_mode": {
    "name": "ipython",
    "version": 3
   },
   "file_extension": ".py",
   "mimetype": "text/x-python",
   "name": "python",
   "nbconvert_exporter": "python",
   "pygments_lexer": "ipython3",
   "version": "3.10.16"
  }
 },
 "nbformat": 4,
 "nbformat_minor": 5
}
